{
 "cells": [
  {
   "cell_type": "code",
   "execution_count": 1,
   "id": "1b498cbf",
   "metadata": {},
   "outputs": [],
   "source": [
    "# import dependencies\n",
    "from datetime import datetime\n",
    "import backtrader as bt"
   ]
  },
  {
   "cell_type": "code",
   "execution_count": 23,
   "id": "1b3a7ac7",
   "metadata": {},
   "outputs": [],
   "source": [
    "class BollingerBandStrategy(bt.Strategy):\n",
    "    \n",
    "    params = (\n",
    "            ('period', 20),\n",
    "            ('std', 2),\n",
    "            ('size', 25000)\n",
    "    )\n",
    "    \n",
    "    def __init__(self):\n",
    "        self.bollinger = bt.indicators.BollingerBands(period = self.p.period,\n",
    "                                                     devfactor = self.p.std)\n",
    "        \n",
    "    def next(self):\n",
    "        \n",
    "        # if no open positions\n",
    "        if not self.position:\n",
    "            \n",
    "            # open short position\n",
    "            if self.data.close[0] > self.bollinger.lines.top:\n",
    "                self.sell(size=self.p.size)\n",
    "            \n",
    "            # open long positions if needed\n",
    "            if self.data.close[0] < self.bollinger.lines.bot:\n",
    "                self.buy(size=self.p.size)\n",
    "        \n",
    "        else:\n",
    "            \n",
    "            # if we have opened a long position already...\n",
    "            if self.position.size > 0:\n",
    "                # close position when price crosses moving average\n",
    "                self.sell(exectype=bt.Order.Limit,\n",
    "                          price=self.bollinger.lines.mid[0],\n",
    "                          size=self.p.size)\n",
    "            else:\n",
    "                self.buy(exectype=bt.Order.Limit,\n",
    "                         price=self.bollinger.lines.mid[0],\n",
    "                         size=self.p.size)\n",
    "            "
   ]
  },
  {
   "cell_type": "code",
   "execution_count": 24,
   "id": "b7791d58",
   "metadata": {},
   "outputs": [
    {
     "name": "stdout",
     "output_type": "stream",
     "text": [
      "Sharpe Ratio: 1.173\n",
      "Annual Return: 3.53%\n",
      "Max. Drawdown: 13.47%\n",
      "Capital: $11962.50\n"
     ]
    }
   ],
   "source": [
    "# main program\n",
    "cerebro = bt.Cerebro()\n",
    "cerebro.addstrategy(BollingerBandStrategy)\n",
    "\n",
    "cerebro.adddata(bt.feeds.YahooFinanceCSVData(\n",
    "        dataname='GBPUSD=X.csv',\n",
    "        fromdate=datetime(2018, 11, 9),\n",
    "        todate=datetime(2023, 11, 9)\n",
    "        ))\n",
    "\n",
    "cerebro.addobserver(bt.observers.Value)\n",
    "cerebro.addanalyzer(bt.analyzers.SharpeRatio, riskfreerate=0.0)\n",
    "cerebro.addanalyzer(bt.analyzers.Returns)\n",
    "cerebro.addanalyzer(bt.analyzers.DrawDown)\n",
    "\n",
    "results = cerebro.run()\n",
    "\n",
    "# print metrics\n",
    "print(f\"Sharpe Ratio: {results[0].analyzers.sharperatio.get_analysis()['sharperatio']:.3f}\")\n",
    "print(f\"Annual Return: {results[0].analyzers.returns.get_analysis()['rnorm100']:.2f}%\")\n",
    "print(f\"Max. Drawdown: {results[0].analyzers.drawdown.get_analysis()['max']['drawdown']:.2f}%\")\n",
    "print(\"Capital: $%.2f\" % cerebro.broker.getvalue())"
   ]
  }
 ],
 "metadata": {
  "kernelspec": {
   "display_name": "Python 3 (ipykernel)",
   "language": "python",
   "name": "python3"
  },
  "language_info": {
   "codemirror_mode": {
    "name": "ipython",
    "version": 3
   },
   "file_extension": ".py",
   "mimetype": "text/x-python",
   "name": "python",
   "nbconvert_exporter": "python",
   "pygments_lexer": "ipython3",
   "version": "3.9.13"
  }
 },
 "nbformat": 4,
 "nbformat_minor": 5
}
